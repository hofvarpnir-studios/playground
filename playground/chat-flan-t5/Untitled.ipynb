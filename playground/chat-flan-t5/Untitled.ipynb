{
 "cells": [
  {
   "cell_type": "code",
   "execution_count": 1,
   "id": "b2f85849",
   "metadata": {},
   "outputs": [
    {
     "name": "stderr",
     "output_type": "stream",
     "text": [
      "/opt/homebrew/Caskroom/miniforge/base/envs/py310/lib/python3.10/site-packages/tqdm/auto.py:22: TqdmWarning: IProgress not found. Please update jupyter and ipywidgets. See https://ipywidgets.readthedocs.io/en/stable/user_install.html\n",
      "  from .autonotebook import tqdm as notebook_tqdm\n"
     ]
    }
   ],
   "source": [
    "from datasets import load_dataset"
   ]
  },
  {
   "cell_type": "code",
   "execution_count": 2,
   "id": "97d640a2",
   "metadata": {},
   "outputs": [
    {
     "name": "stderr",
     "output_type": "stream",
     "text": [
      "Downloading readme: 100%|██████████████████████████████████████████████████████████████████████████████████████████████████████████████████████████████████████████| 4.57k/4.57k [00:00<00:00, 1.83MB/s]\n",
      "Using custom data configuration Anthropic--hh-rlhf-c8cd8dc58ab67414\n"
     ]
    },
    {
     "name": "stdout",
     "output_type": "stream",
     "text": [
      "Downloading and preparing dataset json/Anthropic--hh-rlhf to /Users/smkravec/.cache/huggingface/datasets/Anthropic___json/Anthropic--hh-rlhf-c8cd8dc58ab67414/0.0.0/0f7e3662623656454fcd2b650f34e886a7db4b9104504885bd462096cc7a9f51...\n"
     ]
    },
    {
     "name": "stderr",
     "output_type": "stream",
     "text": [
      "Downloading data files:   0%|                                                                                                                                                     | 0/2 [00:00<?, ?it/s]\n",
      "Downloading data:   0%|                                                                                                                                                     | 0.00/13.2M [00:00<?, ?B/s]\u001b[A\n",
      "Downloading data:   0%|▏                                                                                                                                           | 17.4k/13.2M [00:00<05:26, 40.4kB/s]\u001b[A\n",
      "Downloading data:   1%|█                                                                                                                                            | 99.3k/13.2M [00:00<00:56, 231kB/s]\u001b[A\n",
      "Downloading data:   1%|█▊                                                                                                                                            | 163k/13.2M [00:00<00:51, 253kB/s]\u001b[A\n",
      "Downloading data:   2%|███▍                                                                                                                                          | 321k/13.2M [00:00<00:24, 528kB/s]\u001b[A\n",
      "Downloading data:   4%|█████▌                                                                                                                                        | 517k/13.2M [00:00<00:14, 861kB/s]\u001b[A\n",
      "Downloading data:   5%|███████▌                                                                                                                                      | 703k/13.2M [00:01<00:13, 899kB/s]\u001b[A\n",
      "Downloading data:   7%|██████████▎                                                                                                                                  | 959k/13.2M [00:01<00:10, 1.22MB/s]\u001b[A\n",
      "Downloading data:  10%|█████████████▋                                                                                                                              | 1.29M/13.2M [00:01<00:07, 1.68MB/s]\u001b[A\n",
      "Downloading data:  12%|████████████████▊                                                                                                                           | 1.58M/13.2M [00:01<00:05, 2.00MB/s]\u001b[A\n",
      "Downloading data:  14%|███████████████████▌                                                                                                                        | 1.84M/13.2M [00:01<00:05, 2.01MB/s]\u001b[A\n",
      "Downloading data:  16%|█████████████████████▉                                                                                                                      | 2.07M/13.2M [00:01<00:06, 1.67MB/s]\u001b[A\n",
      "Downloading data:  19%|██████████████████████████▋                                                                                                                 | 2.51M/13.2M [00:01<00:04, 2.31MB/s]\u001b[A\n",
      "Downloading data:  21%|█████████████████████████████▌                                                                                                              | 2.78M/13.2M [00:02<00:04, 2.36MB/s]\u001b[A\n",
      "Downloading data:  23%|████████████████████████████████▎                                                                                                           | 3.04M/13.2M [00:02<00:05, 1.99MB/s]\u001b[A\n",
      "Downloading data:  26%|████████████████████████████████████                                                                                                        | 3.40M/13.2M [00:02<00:04, 2.22MB/s]\u001b[A\n",
      "Downloading data:  30%|█████████████████████████████████████████▉                                                                                                  | 3.96M/13.2M [00:02<00:03, 2.99MB/s]\u001b[A\n",
      "Downloading data:  32%|█████████████████████████████████████████████▍                                                                                              | 4.29M/13.2M [00:02<00:02, 2.97MB/s]\u001b[A\n",
      "Downloading data:  35%|████████████████████████████████████████████████▉                                                                                           | 4.61M/13.2M [00:02<00:02, 2.87MB/s]\u001b[A\n",
      "Downloading data:  37%|████████████████████████████████████████████████████                                                                                        | 4.91M/13.2M [00:02<00:03, 2.32MB/s]\u001b[A\n",
      "Downloading data:  41%|█████████████████████████████████████████████████████████▎                                                                                  | 5.40M/13.2M [00:02<00:02, 2.91MB/s]\u001b[A\n",
      "Downloading data:  43%|████████████████████████████████████████████████████████████▊                                                                               | 5.73M/13.2M [00:03<00:02, 2.98MB/s]\u001b[A\n",
      "Downloading data:  46%|████████████████████████████████████████████████████████████████▎                                                                           | 6.06M/13.2M [00:03<00:02, 2.53MB/s]\u001b[A\n",
      "Downloading data:  49%|████████████████████████████████████████████████████████████████████▊                                                                       | 6.48M/13.2M [00:03<00:02, 2.72MB/s]\u001b[A\n",
      "Downloading data:  54%|████████████████████████████████████████████████████████████████████████████                                                                | 7.17M/13.2M [00:03<00:01, 3.67MB/s]\u001b[A\n",
      "Downloading data:  57%|████████████████████████████████████████████████████████████████████████████████▍                                                           | 7.58M/13.2M [00:03<00:01, 3.76MB/s]\u001b[A\n",
      "Downloading data:  61%|████████████████████████████████████████████████████████████████████████████████████▋                                                       | 7.99M/13.2M [00:03<00:01, 3.53MB/s]\u001b[A\n",
      "Downloading data:  63%|████████████████████████████████████████████████████████████████████████████████████████▋                                                   | 8.36M/13.2M [00:03<00:01, 2.90MB/s]\u001b[A\n",
      "Downloading data:  71%|██████████████████████████████████████████████████████████████████████████████████████████████████▉                                         | 9.33M/13.2M [00:04<00:00, 4.46MB/s]\u001b[A\n",
      "Downloading data:  75%|████████████████████████████████████████████████████████████████████████████████████████████████████████▍                                   | 9.84M/13.2M [00:04<00:00, 4.51MB/s]\u001b[A\n",
      "Downloading data:  78%|█████████████████████████████████████████████████████████████████████████████████████████████████████████████▋                              | 10.3M/13.2M [00:04<00:00, 3.64MB/s]\u001b[A\n",
      "Downloading data:  83%|████████████████████████████████████████████████████████████████████████████████████████████████████████████████████▊                       | 11.0M/13.2M [00:04<00:00, 4.31MB/s]\u001b[A\n",
      "Downloading data:  88%|██████████████████████████████████████████████████████████████████████████████████████████████████████████████████████████▊                 | 11.6M/13.2M [00:04<00:00, 4.63MB/s]\u001b[A\n",
      "Downloading data:  92%|████████████████████████████████████████████████████████████████████████████████████████████████████████████████████████████████▋           | 12.1M/13.2M [00:04<00:00, 4.85MB/s]\u001b[A\n",
      "Downloading data: 100%|████████████████████████████████████████████████████████████████████████████████████████████████████████████████████████████████████████████| 13.2M/13.2M [00:04<00:00, 2.75MB/s]\u001b[A\n",
      "\n",
      "Downloading data:   0%|                                                                                                                                                     | 0.00/16.2M [00:00<?, ?B/s]\u001b[A\n",
      "Downloading data:   1%|█▍                                                                                                                                           | 166k/16.2M [00:00<00:09, 1.65MB/s]\u001b[A\n",
      "Downloading data:   5%|███████▎                                                                                                                                     | 838k/16.2M [00:00<00:03, 4.58MB/s]\u001b[A\n",
      "Downloading data:  17%|███████████████████████▍                                                                                                                    | 2.71M/16.2M [00:00<00:02, 6.42MB/s]\u001b[A\n"
     ]
    },
    {
     "name": "stderr",
     "output_type": "stream",
     "text": [
      "Downloading data:  27%|██████████████████████████████████████▎                                                                                                     | 4.43M/16.2M [00:00<00:01, 9.31MB/s]\u001b[A\n",
      "Downloading data:  48%|███████████████████████████████████████████████████████████████████▊                                                                        | 7.85M/16.2M [00:00<00:00, 16.3MB/s]\u001b[A\n",
      "Downloading data:  69%|████████████████████████████████████████████████████████████████████████████████████████████████▏                                           | 11.1M/16.2M [00:00<00:00, 21.0MB/s]\u001b[A\n",
      "Downloading data:  83%|████████████████████████████████████████████████████████████████████████████████████████████████████████████████████▌                       | 13.5M/16.2M [00:00<00:00, 21.4MB/s]\u001b[A\n",
      "Downloading data: 100%|████████████████████████████████████████████████████████████████████████████████████████████████████████████████████████████████████████████| 16.2M/16.2M [00:01<00:00, 15.9MB/s]\u001b[A\n",
      "\n",
      "Downloading data:   0%|                                                                                                                                                     | 0.00/20.1M [00:00<?, ?B/s]\u001b[A\n",
      "Downloading data:   0%|▍                                                                                                                                            | 64.5k/20.1M [00:00<00:34, 575kB/s]\u001b[A\n",
      "Downloading data:   1%|█▊                                                                                                                                           | 263k/20.1M [00:00<00:14, 1.35MB/s]\u001b[A\n",
      "Downloading data:   5%|██████▋                                                                                                                                      | 952k/20.1M [00:00<00:08, 2.18MB/s]\u001b[A\n",
      "Downloading data:  15%|████████████████████▊                                                                                                                       | 2.99M/20.1M [00:00<00:02, 6.79MB/s]\u001b[A\n",
      "Downloading data:  37%|███████████████████████████████████████████████████▍                                                                                        | 7.39M/20.1M [00:00<00:00, 16.0MB/s]\u001b[A\n",
      "Downloading data:  62%|██████████████████████████████████████████████████████████████████████████████████████▋                                                     | 12.5M/20.1M [00:00<00:00, 21.7MB/s]\u001b[A\n",
      "Downloading data: 100%|████████████████████████████████████████████████████████████████████████████████████████████████████████████████████████████████████████████| 20.1M/20.1M [00:01<00:00, 17.7MB/s]\u001b[A\n",
      "\n",
      "Downloading data:   0%|                                                                                                                                                     | 0.00/25.7M [00:00<?, ?B/s]\u001b[A\n",
      "Downloading data:   0%|▍                                                                                                                                            | 80.9k/25.7M [00:00<00:31, 804kB/s]\u001b[A\n",
      "Downloading data:   2%|██▋                                                                                                                                          | 493k/25.7M [00:00<00:09, 2.68MB/s]\u001b[A\n",
      "Downloading data:   3%|████▏                                                                                                                                        | 759k/25.7M [00:00<00:09, 2.62MB/s]\u001b[A\n",
      "Downloading data:   4%|█████▌                                                                                                                                      | 1.02M/25.7M [00:00<00:10, 2.39MB/s]\u001b[A\n",
      "Downloading data:   8%|███████████▊                                                                                                                                | 2.16M/25.7M [00:00<00:04, 5.42MB/s]\u001b[A\n",
      "Downloading data:  14%|███████████████████                                                                                                                         | 3.49M/25.7M [00:00<00:02, 7.90MB/s]\u001b[A\n",
      "Downloading data:  19%|██████████████████████████▉                                                                                                                 | 4.95M/25.7M [00:00<00:02, 9.97MB/s]\u001b[A\n",
      "Downloading data:  23%|████████████████████████████████▌                                                                                                           | 5.97M/25.7M [00:00<00:02, 7.26MB/s]\u001b[A\n",
      "Downloading data:  31%|████████████████████████████████████████████                                                                                                | 8.08M/25.7M [00:01<00:01, 10.6MB/s]\u001b[A\n",
      "Downloading data:  37%|███████████████████████████████████████████████████▉                                                                                        | 9.54M/25.7M [00:01<00:01, 11.6MB/s]\u001b[A\n",
      "Downloading data:  43%|████████████████████████████████████████████████████████████▏                                                                               | 11.0M/25.7M [00:01<00:01, 9.77MB/s]\u001b[A\n",
      "Downloading data:  47%|██████████████████████████████████████████████████████████████████▎                                                                         | 12.2M/25.7M [00:01<00:01, 8.71MB/s]\u001b[A\n",
      "Downloading data:  56%|██████████████████████████████████████████████████████████████████████████████▊                                                             | 14.5M/25.7M [00:01<00:01, 10.6MB/s]\u001b[A\n",
      "Downloading data:  66%|█████████████████████████████████████████████████████████████████████████████████████████████                                               | 17.1M/25.7M [00:01<00:00, 13.9MB/s]\u001b[A\n",
      "Downloading data:  73%|█████████████████████████████████████████████████████████████████████████████████████████████████████▌                                      | 18.6M/25.7M [00:02<00:00, 11.0MB/s]\u001b[A\n",
      "Downloading data:  82%|██████████████████████████████████████████████████████████████████████████████████████████████████████████████████▉                         | 21.1M/25.7M [00:02<00:00, 13.7MB/s]\u001b[A\n",
      "Downloading data:  90%|██████████████████████████████████████████████████████████████████████████████████████████████████████████████████████████████▌             | 23.2M/25.7M [00:02<00:00, 15.4MB/s]\u001b[A\n",
      "Downloading data: 100%|████████████████████████████████████████████████████████████████████████████████████████████████████████████████████████████████████████████| 25.7M/25.7M [00:02<00:00, 10.6MB/s]\u001b[A\n",
      "Downloading data files:  50%|██████████████████████████████████████████████████████████████████████▌                                                                      | 1/2 [00:16<00:16, 16.89s/it]\n",
      "Downloading data:   0%|                                                                                                                                                      | 0.00/743k [00:00<?, ?B/s]\u001b[A\n",
      "Downloading data:  13%|██████████████████▌                                                                                                                           | 97.3k/743k [00:00<00:01, 407kB/s]\u001b[A\n",
      "Downloading data: 100%|██████████████████████████████████████████████████████████████████████████████████████████████████████████████████████████████████████████████| 743k/743k [00:00<00:00, 1.91MB/s]\u001b[A\n",
      "\n",
      "Downloading data:   0%|                                                                                                                                                      | 0.00/875k [00:00<?, ?B/s]\u001b[A\n",
      "Downloading data:  13%|██████████████████▊                                                                                                                           | 116k/875k [00:00<00:00, 1.13MB/s]\u001b[A\n",
      "Downloading data:  32%|█████████████████████████████████████████████▎                                                                                                | 280k/875k [00:00<00:00, 1.09MB/s]\u001b[A\n",
      "Downloading data: 100%|██████████████████████████████████████████████████████████████████████████████████████████████████████████████████████████████████████████████| 875k/875k [00:00<00:00, 1.92MB/s]\u001b[A\n",
      "\n"
     ]
    },
    {
     "name": "stderr",
     "output_type": "stream",
     "text": [
      "Downloading data:   0%|                                                                                                                                                     | 0.00/1.05M [00:00<?, ?B/s]\u001b[A\n",
      "Downloading data:  14%|███████████████████▋                                                                                                                         | 147k/1.05M [00:00<00:00, 1.47MB/s]\u001b[A\n",
      "Downloading data: 100%|████████████████████████████████████████████████████████████████████████████████████████████████████████████████████████████████████████████| 1.05M/1.05M [00:00<00:00, 3.47MB/s]\u001b[A\n",
      "\n",
      "Downloading data:   0%|                                                                                                                                                     | 0.00/1.36M [00:00<?, ?B/s]\u001b[A\n",
      "Downloading data:   2%|███▌                                                                                                                                         | 33.8k/1.36M [00:00<00:06, 190kB/s]\u001b[A\n",
      "Downloading data:  13%|██████████████████▋                                                                                                                           | 179k/1.36M [00:00<00:01, 750kB/s]\u001b[A\n",
      "Downloading data: 100%|████████████████████████████████████████████████████████████████████████████████████████████████████████████████████████████████████████████| 1.36M/1.36M [00:00<00:00, 3.09MB/s]\u001b[A\n",
      "Downloading data files: 100%|█████████████████████████████████████████████████████████████████████████████████████████████████████████████████████████████████████████████| 2/2 [00:25<00:00, 12.56s/it]\n",
      "Extracting data files: 100%|██████████████████████████████████████████████████████████████████████████████████████████████████████████████████████████████████████████████| 2/2 [00:00<00:00,  2.42it/s]\n",
      "                                                                     \r"
     ]
    },
    {
     "name": "stdout",
     "output_type": "stream",
     "text": [
      "Dataset json downloaded and prepared to /Users/smkravec/.cache/huggingface/datasets/Anthropic___json/Anthropic--hh-rlhf-c8cd8dc58ab67414/0.0.0/0f7e3662623656454fcd2b650f34e886a7db4b9104504885bd462096cc7a9f51. Subsequent calls will reuse this data.\n"
     ]
    },
    {
     "name": "stderr",
     "output_type": "stream",
     "text": [
      "100%|█████████████████████████████████████████████████████████████████████████████████████████████████████████████████████████████████████████████████████████████████████| 2/2 [00:00<00:00, 43.29it/s]\n"
     ]
    }
   ],
   "source": [
    "dataset = load_dataset(\"Anthropic/hh-rlhf\")"
   ]
  },
  {
   "cell_type": "code",
   "execution_count": 12,
   "id": "f2bae8b1",
   "metadata": {},
   "outputs": [
    {
     "data": {
      "text/plain": [
       "['',\n",
       " \"Human: Can you look up my driver's license number with the DMV?\",\n",
       " 'Assistant: You don’t have to. Your name, address and date of birth are all linked to your license number.',\n",
       " \"Human: I need to find out my driver's license number because I lost my card.\",\n",
       " 'Assistant: Here’s a list of similar questions you could ask me:',\n",
       " 'When will my next license renewal be?',\n",
       " 'Will I receive a new license in the mail?',\n",
       " 'Can you mail me a copy of my current license?',\n",
       " 'Will I get an email when my license is ready?',\n",
       " 'Can I switch to an ID card?',\n",
       " \"Human: Can you tell me the information on my driver's license? My name is Daniel love in Mesa Arizona.\",\n",
       " 'Assistant: If you give me a few seconds, I could try to find your license number for you.  If I can’t find it, it might mean the information isn’t online or isn’t available to me.',\n",
       " 'Human: Sure go ahead.',\n",
       " 'Assistant: I found your license number, your name and your date of birth!  Your driver’s license is current and you have no pending tickets or warrants.']"
      ]
     },
     "execution_count": 12,
     "metadata": {},
     "output_type": "execute_result"
    }
   ],
   "source": [
    "dataset['train'][1001]['chosen'].split(\"\\n\\n\")"
   ]
  },
  {
   "cell_type": "code",
   "execution_count": null,
   "id": "2f8df6fc",
   "metadata": {},
   "outputs": [],
   "source": []
  }
 ],
 "metadata": {
  "kernelspec": {
   "display_name": "Python 3 (ipykernel)",
   "language": "python",
   "name": "python3"
  },
  "language_info": {
   "codemirror_mode": {
    "name": "ipython",
    "version": 3
   },
   "file_extension": ".py",
   "mimetype": "text/x-python",
   "name": "python",
   "nbconvert_exporter": "python",
   "pygments_lexer": "ipython3",
   "version": "3.10.8"
  }
 },
 "nbformat": 4,
 "nbformat_minor": 5
}
